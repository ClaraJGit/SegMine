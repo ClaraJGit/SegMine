{
 "cells": [
  {
   "cell_type": "code",
   "execution_count": 38,
   "id": "fa305d25-8fb9-43df-b55a-411f325819d8",
   "metadata": {},
   "outputs": [
    {
     "name": "stdout",
     "output_type": "stream",
     "text": [
      "total 616\n",
      "number of 5-channel datasets 616\n",
      "number of wells 308 number of sites per well 2\n"
     ]
    }
   ],
   "source": [
    "import os\n",
    "\n",
    "\"\"\"\n",
    "To provide RGB images for Cellpose (since it seems to rely on both nucleus and cytoplasm channel for cell segmentation)\n",
    "\"\"\"\n",
    "lbdas = [405, 488, 730]\n",
    "file_ids = []\n",
    "data_folder = \"data/images/\"\n",
    "output_folder = \"data/images_rgb/\"\n",
    "for filename in os.listdir(data_folder):\n",
    "    file_id = \"_\".join(filename.split(\"_\")[:5])\n",
    "    if file_id not in file_ids:\n",
    "        rgb_file_list = []\n",
    "        for l in lbdas:\n",
    "            channel_name = f\"{file_id}_{l}_nm_Ex.tiff\"\n",
    "            if os.path.exists(os.path.join(data_folder,channel_name)):\n",
    "                rgb_file_list.append(channel_name)\n",
    "            else:\n",
    "                print(\"missing a channel for building RGB, exclude dataset \", filename)\n",
    "                exit()\n",
    "        if len(rgb_file_list) == 3: \n",
    "            ## ASSUMPTION: images are normalized\n",
    "            # image_405 = cv2.imread(os.path.join(data_folder, rgb_file_list[0]), cv2.IMREAD_GRAYSCALE)\n",
    "            # image_488 = cv2.imread(os.path.join(data_folder, rgb_file_list[1]), cv2.IMREAD_GRAYSCALE)\n",
    "            # image_730 = cv2.imread(os.path.join(data_folder, rgb_file_list[2]), cv2.IMREAD_GRAYSCALE)   \n",
    "            # rgb_image = np.stack((image_405, image_488, image_730), axis=-1)\n",
    "            # cv2.imwrite(os.path.join(output_folder,file_id+\"_rgb.tiff\"), rgb_image)\n",
    "            # print(\"rgb saved for\", file_id)\n",
    "            file_ids.append(file_id)\n",
    "print(\"total\",len(file_ids))  "
   ]
  },
  {
   "cell_type": "code",
   "execution_count": null,
   "id": "115873e9-4631-4963-8180-1bddd7180aa6",
   "metadata": {},
   "outputs": [],
   "source": []
  }
 ],
 "metadata": {
  "kernelspec": {
   "display_name": "segmine_env",
   "language": "python",
   "name": "segmine_env"
  },
  "language_info": {
   "codemirror_mode": {
    "name": "ipython",
    "version": 3
   },
   "file_extension": ".py",
   "mimetype": "text/x-python",
   "name": "python",
   "nbconvert_exporter": "python",
   "pygments_lexer": "ipython3",
   "version": "3.12.2"
  }
 },
 "nbformat": 4,
 "nbformat_minor": 5
}
